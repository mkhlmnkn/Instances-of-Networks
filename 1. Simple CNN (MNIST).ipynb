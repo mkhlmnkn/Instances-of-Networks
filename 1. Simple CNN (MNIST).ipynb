{
 "cells": [
  {
   "cell_type": "markdown",
   "metadata": {},
   "source": [
    "# 1. Simple CNN (MNIST)"
   ]
  },
  {
   "cell_type": "markdown",
   "metadata": {},
   "source": [
    "### Device"
   ]
  },
  {
   "cell_type": "code",
   "execution_count": 1,
   "metadata": {},
   "outputs": [
    {
     "name": "stdout",
     "output_type": "stream",
     "text": [
      "[name: \"/device:CPU:0\"\n",
      "device_type: \"CPU\"\n",
      "memory_limit: 268435456\n",
      "locality {\n",
      "}\n",
      "incarnation: 14913357812465670021\n",
      "]\n"
     ]
    }
   ],
   "source": [
    "from tensorflow.python.client import device_lib \n",
    "print(device_lib.list_local_devices())"
   ]
  },
  {
   "cell_type": "markdown",
   "metadata": {},
   "source": [
    "### Importing"
   ]
  },
  {
   "cell_type": "code",
   "execution_count": 2,
   "metadata": {},
   "outputs": [],
   "source": [
    "import tensorflow as tf\n",
    "import numpy as np\n",
    "import matplotlib.pyplot as plt\n",
    "import seaborn as sns"
   ]
  },
  {
   "cell_type": "markdown",
   "metadata": {},
   "source": [
    "### Dataset"
   ]
  },
  {
   "cell_type": "code",
   "execution_count": 3,
   "metadata": {},
   "outputs": [
    {
     "name": "stdout",
     "output_type": "stream",
     "text": [
      "Extracting MNIST_data/train-images-idx3-ubyte.gz\n",
      "Extracting MNIST_data/train-labels-idx1-ubyte.gz\n",
      "Extracting MNIST_data/t10k-images-idx3-ubyte.gz\n",
      "Extracting MNIST_data/t10k-labels-idx1-ubyte.gz\n"
     ]
    }
   ],
   "source": [
    "from tensorflow.examples.tutorials.mnist import input_data\n",
    "mnist = input_data.read_data_sets(\"MNIST_data/\", one_hot=True)"
   ]
  },
  {
   "cell_type": "markdown",
   "metadata": {},
   "source": [
    "### Let's look at our data"
   ]
  },
  {
   "cell_type": "code",
   "execution_count": 4,
   "metadata": {},
   "outputs": [
    {
     "name": "stdout",
     "output_type": "stream",
     "text": [
      "This is a \"4\"\n"
     ]
    },
    {
     "data": {
      "image/png": "[encoded data removed]",
      "text/plain": [
       "<Figure size 432x288 with 2 Axes>"
      ]
     },
     "metadata": {},
     "output_type": "display_data"
    }
   ],
   "source": [
    "#datum index\n",
    "i = 2019\n",
    "print('This is a \"{}\"'.format(np.argmax(mnist.train.labels[i])))\n",
    "image_example = mnist.train.images[i].reshape(28, 28)\n",
    "sns.heatmap(image_example, cmap=sns.cubehelix_palette(10))\n",
    "plt.show()"
   ]
  },
  {
   "cell_type": "markdown",
   "metadata": {},
   "source": [
    "### Model"
   ]
  },
  {
   "cell_type": "code",
   "execution_count": 5,
   "metadata": {},
   "outputs": [],
   "source": [
    "tf.reset_default_graph()\n",
    "\n",
    "x = tf.placeholder(tf.float32, [None, 784])\n",
    "y = tf.placeholder(tf.float32, [None, 10])\n",
    "\n",
    "x_image = tf.reshape(x, [-1,28,28,1])\n",
    "\n",
    "with tf.variable_scope(\"conv1\") as scope:\n",
    "    W = tf.get_variable(\"W\", shape=[5,5,1,32], initializer=tf.contrib.layers.xavier_initializer())\n",
    "    b = tf.get_variable(\"b\", initializer=tf.constant(0.01, shape=[32]))\n",
    "    conv_1 = tf.nn.conv2d(x_image, W, strides=[1,1,1,1], padding=\"VALID\")\n",
    "    conv_1_b = tf.nn.bias_add(conv_1, b)\n",
    "    conv_1_act = tf.nn.relu(conv_1_b)\n",
    "\n",
    "pool_1 = tf.nn.max_pool(\n",
    "    conv_1_act, ksize=[1,2,2,1], strides=[1,2,2,1], padding=\"SAME\")\n",
    "\n",
    "with tf.variable_scope(\"conv2\") as scope:\n",
    "    W = tf.get_variable(\"W\", shape=[5,5,32,64], initializer=tf.contrib.layers.xavier_initializer())\n",
    "    b = tf.get_variable(\"b\", initializer=tf.constant(0.01, shape=[64]))\n",
    "    conv_2 = tf.nn.conv2d(pool_1, W, strides=[1,1,1,1], padding=\"VALID\")\n",
    "    conv_2_b = tf.nn.bias_add(conv_2, b)\n",
    "    conv_2_act = tf.nn.relu(conv_2_b)\n",
    "\n",
    "pool_2 = tf.nn.max_pool(conv_2_act, ksize=[1,2,2,1], strides=[1,2,2,1], padding=\"SAME\")\n",
    "\n",
    "with tf.variable_scope(\"fc1\") as scope:\n",
    "    W = tf.get_variable(\"W\", shape=[4*4*64,1024], initializer=tf.contrib.layers.xavier_initializer())\n",
    "    b = tf.get_variable(\"b\", initializer=tf.constant(0.01, shape=[1024]))\n",
    "    flat = tf.reshape(pool_2, [-1, 4*4*64])\n",
    "    fc_1 = tf.matmul(flat, W)\n",
    "    fc_1_b = tf.nn.bias_add(fc_1, b)\n",
    "    fc_1_act = tf.nn.relu(fc_1_b)\n",
    "\n",
    "keep_prob = tf.placeholder(tf.float32)\n",
    "fc_1_drop = tf.nn.dropout(fc_1_act, keep_prob)\n",
    "\n",
    "with tf.variable_scope(\"fc2\") as scope:\n",
    "    W = tf.get_variable(\"W\", shape=[1024,10], initializer=tf.contrib.layers.xavier_initializer())\n",
    "    b = tf.get_variable(\"b\", initializer=tf.constant(0.01, shape=[10]))\n",
    "    fc_2 = tf.matmul(fc_1_drop, W)\n",
    "    logit_fc = tf.nn.bias_add(fc_2, b)\n",
    "\n",
    "y_fc = tf.nn.softmax(logit_fc)\n",
    "\n",
    "Ws = [var for var in tf.get_collection(tf.GraphKeys.GLOBAL_VARIABLES) if \"W\" in var.name]\n",
    "l2_loss = tf.multiply(tf.reduce_sum([tf.nn.l2_loss(W) for W in Ws]), 0.01)\n",
    "\n",
    "cross_entropy = tf.reduce_mean(tf.nn.softmax_cross_entropy_with_logits_v2(logits=logit_fc, labels=y))\n",
    "train_step = tf.train.AdamOptimizer(0.0001).minimize(tf.add(cross_entropy, l2_loss))"
   ]
  },
  {
   "cell_type": "markdown",
   "metadata": {},
   "source": [
    "### Session"
   ]
  },
  {
   "cell_type": "code",
   "execution_count": 6,
   "metadata": {},
   "outputs": [],
   "source": [
    "saver = tf.train.Saver()\n",
    "sess = tf.Session()\n",
    "sess.run(tf.global_variables_initializer())"
   ]
  },
  {
   "cell_type": "markdown",
   "metadata": {},
   "source": [
    "### Training"
   ]
  },
  {
   "cell_type": "code",
   "execution_count": 7,
   "metadata": {},
   "outputs": [
    {
     "data": {
      "text/plain": [
       "'models/1_simple_cnn(mnist).ckpt'"
      ]
     },
     "execution_count": 7,
     "metadata": {},
     "output_type": "execute_result"
    }
   ],
   "source": [
    "for i in range(1000):\n",
    "    batch_x, batch_y = mnist.train.next_batch(64)\n",
    "    sess.run(train_step, feed_dict={ x: batch_x, y: batch_y, keep_prob: 0.5 })\n",
    "    \n",
    "saver.save(sess, \"models/1_simple_cnn(mnist).ckpt\")"
   ]
  },
  {
   "cell_type": "markdown",
   "metadata": {},
   "source": [
    "### Result"
   ]
  },
  {
   "cell_type": "code",
   "execution_count": 8,
   "metadata": {},
   "outputs": [
    {
     "name": "stdout",
     "output_type": "stream",
     "text": [
      "0.9512\n"
     ]
    }
   ],
   "source": [
    "#if training is excluded\n",
    "#saver.restore(sess, \"models/1_simple_cnn(mnist).ckpt\")\n",
    "\n",
    "correct_prediction = tf.equal(tf.argmax(y_fc, 1), tf.argmax(y, 1))\n",
    "accuracy = tf.reduce_mean(tf.cast(correct_prediction, tf.float32))\n",
    "\n",
    "print(sess.run(accuracy, feed_dict={ x: mnist.test.images [:5000], y: mnist.test.labels[:5000], keep_prob: 1. }))"
   ]
  },
  {
   "cell_type": "code",
   "execution_count": null,
   "metadata": {},
   "outputs": [],
   "source": []
  }
 ],
 "metadata": {
  "kernelspec": {
   "display_name": "Python 3",
   "language": "python",
   "name": "python3"
  },
  "language_info": {
   "codemirror_mode": {
    "name": "ipython",
    "version": 3
   },
   "file_extension": ".py",
   "mimetype": "text/x-python",
   "name": "python",
   "nbconvert_exporter": "python",
   "pygments_lexer": "ipython3",
   "version": "3.6.4"
  }
 },
 "nbformat": 4,
 "nbformat_minor": 2
}
